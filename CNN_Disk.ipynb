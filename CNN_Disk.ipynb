{
 "cells": [
  {
   "cell_type": "markdown",
   "metadata": {},
   "source": [
    "# Train a CNN by reading batches of images from disk"
   ]
  },
  {
   "cell_type": "markdown",
   "metadata": {},
   "source": [
    "You might need to train a model with so many images that it couldn't be feasible to train them from RAM.  \n",
    "In that case, loading a group by a batch size might come handy.  \n",
    "  \n",
    "\n",
    "Here you will see how to do it by first loading the location of the images into a pandas dataframe, that could work as a \"database source\" and then reading it from disk, transform to grayscale, resize and turning it into a numpy array.\n"
   ]
  },
  {
   "cell_type": "code",
   "execution_count": 1,
   "metadata": {
    "collapsed": false
   },
   "outputs": [],
   "source": [
    "import tensorflow as tf\n",
    "import numpy as np\n",
    "import matplotlib.pyplot as plt\n",
    "from PIL import Image #http://pillow.readthedocs.io/en/3.1.x/reference/Image.html\n",
    "import os\n",
    "import pandas as pd"
   ]
  },
  {
   "cell_type": "markdown",
   "metadata": {},
   "source": [
    "Define functions to load an image, transform to gray scale, resize and turn it into a numpy array."
   ]
  },
  {
   "cell_type": "code",
   "execution_count": 2,
   "metadata": {
    "collapsed": false
   },
   "outputs": [],
   "source": [
    "def rgbToG(img):\n",
    "    \"\"\"\n",
    "    Color to gray\n",
    "    \"\"\"\n",
    "    npImg=np.asarray(img)\n",
    "    r=0.2125\n",
    "    g=0.7154\n",
    "    b=0.0721\n",
    "    gsImg=r*npImg[:,:,0]+g*npImg[:,:,1]+b*npImg[:,:,2]\n",
    "    return gsImg\n",
    "def imgToGray(imgF,resize=True,w_h = (32,32)):\n",
    "    \"\"\"\n",
    "    Open Image and \n",
    "    \"\"\"\n",
    "    img=Image.open(imgF)\n",
    "    if resize==True:\n",
    "        img = img.resize(w_h,Image.ANTIALIAS)\n",
    "    imnp=np.asarray(img)\n",
    "    img.close() #Close opened image\n",
    "    ims=len(imnp.shape)\n",
    "    if ims == 3:\n",
    "        imgG=rgbToG(imnp)\n",
    "    elif ims ==2:\n",
    "        imgG=imnp\n",
    "    return imgG\n",
    "\n"
   ]
  },
  {
   "cell_type": "markdown",
   "metadata": {},
   "source": [
    "Define images repository and save the complete path plus the image to a list.  \n",
    "We define the y_labels dictionary to transform the name 'dog,cat' into a dummies array  \n",
    "that can be used by a softmax function"
   ]
  },
  {
   "cell_type": "code",
   "execution_count": 3,
   "metadata": {
    "collapsed": true
   },
   "outputs": [],
   "source": [
    "#Images source: https://www.kaggle.com/c/dogs-vs-cats/data\n",
    "\n",
    "data='/home/bsaldivar/.../'\n",
    "\n",
    "y_labels={'cat':np.array([[1, 0]]),'dog':np.array([[0, 1]])}\n",
    "image_list = []\n",
    "\n",
    "for f in os.listdir(data):\n",
    "    target = f.split('.')[0]\n",
    "    file_full=data+f\n",
    "    image_list.append({'file':f,'file_full':file_full,'target':y_labels[target]})\n",
    "    \n",
    "        "
   ]
  },
  {
   "cell_type": "markdown",
   "metadata": {},
   "source": [
    "Convert the list into a dataframe and then show the its content"
   ]
  },
  {
   "cell_type": "code",
   "execution_count": 4,
   "metadata": {
    "collapsed": false
   },
   "outputs": [
    {
     "name": "stdout",
     "output_type": "stream",
     "text": [
      "           file                         file_full    target\n",
      "0  cat.1555.jpg  /home/bsaldivar/.../cat.1555.jpg  [[1, 0]]\n",
      "1  cat.9666.jpg  /home/bsaldivar/.../cat.9666.jpg  [[1, 0]]\n",
      "2  dog.7569.jpg  /home/bsaldivar/.../dog.7569.jpg  [[0, 1]]\n",
      "3  cat.5661.jpg  /home/bsaldivar/.../cat.5661.jpg  [[1, 0]]\n",
      "4  cat.5213.jpg  /home/bsaldivar/.../cat.5213.jpg  [[1, 0]]\n",
      "5  cat.7355.jpg  /home/bsaldivar/.../cat.7355.jpg  [[1, 0]]\n",
      "6  cat.7022.jpg  /home/bsaldivar/.../cat.7022.jpg  [[1, 0]]\n",
      "7  cat.3681.jpg  /home/bsaldivar/.../cat.3681.jpg  [[1, 0]]\n",
      "8  dog.7159.jpg  /home/bsaldivar/.../dog.7159.jpg  [[0, 1]]\n",
      "9  dog.9138.jpg  /home/bsaldivar/.../dog.9138.jpg  [[0, 1]]\n"
     ]
    }
   ],
   "source": [
    "image_df = pd.DataFrame(image_list)\n",
    "print(image_df.head(10))"
   ]
  },
  {
   "cell_type": "markdown",
   "metadata": {},
   "source": [
    "# Open an image alone to see its dimensions and try our function to transform to gray and resize into a numpy array from disk"
   ]
  },
  {
   "cell_type": "code",
   "execution_count": 5,
   "metadata": {
    "collapsed": false
   },
   "outputs": [
    {
     "name": "stdout",
     "output_type": "stream",
     "text": [
      "/home/bsaldivar/.../train/cat.1555.jpg\n",
      "(199, 150)\n",
      "<class 'numpy.ndarray'> (32, 32)\n"
     ]
    },
    {
     "data": {
      "image/png": "[encoded data removed]",
      "text/plain": [
       "<matplotlib.figure.Figure at 0x7f691887c4a8>"
      ]
     },
     "metadata": {},
     "output_type": "display_data"
    }
   ],
   "source": [
    "ix = image_df.loc[0]['file_full']\n",
    "print(ix)\n",
    "pix = Image.open(ix)\n",
    "print(pix.size)\n",
    "pix.close()\n",
    "\n",
    "pix = imgToGray(ix,resize=True,w_h = (32,32))\n",
    "print(type(pix),pix.shape)\n",
    "plt.imshow(pix,cmap=\"gray\")\n",
    "plt.show()"
   ]
  },
  {
   "cell_type": "markdown",
   "metadata": {},
   "source": [
    "# Test our by batch reading from disk and transform to numpy array"
   ]
  },
  {
   "cell_type": "markdown",
   "metadata": {},
   "source": [
    "We have defined the limit number to just train from 20 records."
   ]
  },
  {
   "cell_type": "code",
   "execution_count": 6,
   "metadata": {
    "collapsed": false
   },
   "outputs": [
    {
     "name": "stdout",
     "output_type": "stream",
     "text": [
      "(5, 32, 32, 1) (5, 2)\n",
      "(5, 32, 32, 1) (5, 2)\n",
      "(5, 32, 32, 1) (5, 2)\n",
      "(5, 32, 32, 1) (5, 2)\n"
     ]
    }
   ],
   "source": [
    "\n",
    "batch_size=5\n",
    "limit=20\n",
    "for _ in range(0,limit,batch_size):\n",
    "    x_y = image_df.iloc[_:_+batch_size]\n",
    "    fx = x_y['file_full'].values\n",
    "    fy = x_y['target'].values\n",
    "\n",
    "    z = list(map(imgToGray,fx))\n",
    "    x = np.asarray(z)\n",
    "    x = x.reshape([x.shape[0],x.shape[1],x.shape[2],1])\n",
    "    \n",
    "    y = np.concatenate(fy,0)\n",
    "    \n",
    "    print(x.shape,y.shape)\n"
   ]
  },
  {
   "cell_type": "markdown",
   "metadata": {},
   "source": [
    "Now create a function to call it in a simpler way"
   ]
  },
  {
   "cell_type": "code",
   "execution_count": 7,
   "metadata": {
    "collapsed": false
   },
   "outputs": [
    {
     "name": "stdout",
     "output_type": "stream",
     "text": [
      "(5, 32, 32, 1) (5, 2)\n",
      "(5, 32, 32, 1) (5, 2)\n",
      "(5, 32, 32, 1) (5, 2)\n",
      "(5, 32, 32, 1) (5, 2)\n"
     ]
    }
   ],
   "source": [
    "def df_x_y (df,x_label,y_label,batch_size=5,offset=0):\n",
    "    x_y = df.iloc[offset:offset+batch_size]\n",
    "    fx = x_y[x_label].values\n",
    "    fy = x_y[y_label].values\n",
    "    z = list(map(imgToGray,fx))\n",
    "    x = np.asarray(z)\n",
    "    x = x.reshape([x.shape[0],x.shape[1],x.shape[2],1])\n",
    "    y = np.concatenate(fy,0)\n",
    "    return x,y\n",
    "\n",
    "batch_size=5\n",
    "limit=20\n",
    "\n",
    "for _ in range(0,limit,batch_size):\n",
    "    x_,y_ = df_x_y (image_df,x_label='file_full',y_label='target',batch_size=5,offset=_)\n",
    "    print(x_.shape,y_.shape)"
   ]
  },
  {
   "cell_type": "markdown",
   "metadata": {},
   "source": [
    "# Define layers for construction of a CNN"
   ]
  },
  {
   "cell_type": "code",
   "execution_count": 8,
   "metadata": {
    "collapsed": false
   },
   "outputs": [],
   "source": [
    "\n",
    "def get_previous_features(i_layer):\n",
    "    convx_dims = i_layer.get_shape().as_list()\n",
    "    output_features = 1\n",
    "    for dim in range(1,len(convx_dims)):\n",
    "        output_features=output_features*convx_dims[dim]\n",
    "    return output_features\n",
    "\n",
    "\n",
    "\n",
    "def conv(input_matrix,filter_size=3,layer_depth=8,\n",
    "              strides=[1,1,1,1],padding='SAME',\n",
    "              is_training=True,name_scope=\"lx\",\n",
    "              stddev_n = 0.05,\n",
    "             max_bool=False,max_kernel=[1,2,2,1],max_strides=[1,1,1,1], max_padding='SAME',\n",
    "             drop_out_bool=False,drop_out_ph=None,drop_out_v=None,decay=0.5\n",
    "             ):\n",
    "    with tf.name_scope(name_scope):\n",
    "        ims = input_matrix.get_shape().as_list()\n",
    "        input_depth=ims[len(ims)-1]\n",
    "        W = tf.Variable(tf.truncated_normal([filter_size,filter_size,input_depth,layer_depth], stddev=stddev_n),name='W')\n",
    "        b = tf.Variable(tf.constant(stddev_n, shape=[layer_depth]),name='b')\n",
    "        c = tf.add(tf.nn.conv2d(input_matrix, W, strides=strides, padding=padding),b,name='conv')\n",
    "        n = tf.contrib.layers.batch_norm(c, center=True, scale=True, is_training=is_training,decay=decay)\n",
    "        a = tf.nn.relu(n,name=\"activation\")\n",
    "        if max_bool==True:\n",
    "            out = tf.nn.max_pool(a, ksize=max_kernel,strides=max_strides, padding=max_padding,name='max')\n",
    "        else:\n",
    "            out = a\n",
    "        if drop_out_bool==True:\n",
    "            out_  = tf.nn.dropout(out, drop_out_ph)\n",
    "        else:\n",
    "            out_ = out\n",
    "        return out_\n",
    "\n",
    "\n",
    "def fc(input_matrix,n=22,norm=False,prev_conv=False,\n",
    "       stddev_n = 0.05,is_training=True,\n",
    "       name_scope='FC',drop_out_bool=False,drop_out_ph=None,drop_out_v=None,decay=0.5):\n",
    "    with tf.name_scope(name_scope):\n",
    "        cvpfx = get_previous_features(input_matrix)\n",
    "        if prev_conv==True:\n",
    "            im = tf.reshape(input_matrix, [-1, cvpfx])\n",
    "        else:\n",
    "            im = input_matrix\n",
    "        W = tf.Variable(tf.truncated_normal([cvpfx, n], stddev=stddev_n),name='W')\n",
    "        b = tf.Variable(tf.constant(stddev_n, shape=[n]),name='b') \n",
    "        fc = tf.add(tf.matmul(im, W),b,name=\"FC\")\n",
    "        if name_scope==\"FCL\":\n",
    "            out_ = fc\n",
    "        else:\n",
    "            if norm==True:\n",
    "                n = tf.contrib.layers.batch_norm(fc, center=True, scale=True, is_training=is_training,decay=decay)\n",
    "                out = tf.nn.relu(n,name=\"activation\")\n",
    "            else:\n",
    "                out = tf.nn.relu(fc,name=\"activation\")\n",
    "            if drop_out_bool==True:\n",
    "                out_  = tf.nn.dropout(out, drop_out_ph)\n",
    "            else:\n",
    "                out_ = out\n",
    "        return out_\n"
   ]
  },
  {
   "cell_type": "markdown",
   "metadata": {},
   "source": [
    "# Define training function"
   ]
  },
  {
   "cell_type": "code",
   "execution_count": 9,
   "metadata": {
    "collapsed": true
   },
   "outputs": [],
   "source": [
    "def train(df,x_label,y_label,x_shape_,y_shape,\n",
    "          batch_size=5,limit=20,\n",
    "          iters=10,lr=0.001,save_model=True,save_name=None,restore_model=False,restore_name=None,v=False):\n",
    "    \"\"\"\n",
    "    df: Dataframe that contains the image location in the x_label column, and the target dummies array in the y_label\n",
    "    column. \n",
    "    x_shape_ and y_shape: shape of a batch for x and y, [None, 32,32,1] and [None,2] for grayscale channel 1, \n",
    "    and 2 target classes \n",
    "    v: for verbosity, if true show the loss progress\n",
    "    \"\"\"\n",
    "    \n",
    "    tf.reset_default_graph()\n",
    "    class_output = y_shape[1]\n",
    "    \n",
    "    x_shape=[None]\n",
    "    for _ in range(1,len(x_shape_)):\n",
    "        x_shape.append(x_shape_[_])\n",
    "    xi = tf.placeholder(tf.float32, shape=x_shape,name='x')\n",
    "    y_ = tf.placeholder(tf.float32, shape=[None,class_output],name='y')\n",
    "    train_bool=tf.placeholder(bool,name='train_test')\n",
    "    learning_rate = tf.placeholder(tf.float32)\n",
    "    \n",
    "    #Define the model here--DOWN\n",
    "    CV1 = conv(xi,filter_size=3,layer_depth=2,name_scope=\"CL1\",is_training=train_bool)\n",
    "    CV2 = conv(CV1,filter_size=3,layer_depth=2,name_scope=\"CL2\",is_training=train_bool)\n",
    "    prediction = fc(CV2,n=class_output,name_scope=\"FCL\",prev_conv=True)\n",
    "    #Define the model here--UP\n",
    "    \n",
    "    y_CNN = tf.nn.softmax(prediction,name='Softmax')\n",
    "    class_pred = tf.argmax(y_CNN,1,name='ClassPred')\n",
    "    loss = tf.reduce_mean(-tf.reduce_sum(y_ * tf.log(y_CNN), reduction_indices=[1]),name=\"loss\")\n",
    "    \n",
    "    #The following three lines are required to make \"is_training\" work for normalization\n",
    "    update_ops = tf.get_collection(tf.GraphKeys.UPDATE_OPS)\n",
    "    with tf.control_dependencies(update_ops):\n",
    "        train_step = tf.train.AdamOptimizer(learning_rate).minimize(loss)\n",
    "    init_op = tf.global_variables_initializer()\n",
    "    \n",
    "    saver = tf.train.Saver()\n",
    "    \n",
    "    with tf.Session() as s:\n",
    "        if restore_model==True:\n",
    "            if restore_name==None:\n",
    "                print(\"No model file specified\")\n",
    "                return\n",
    "            else:\n",
    "                saver.restore(s,restore_dir)\n",
    "        else:\n",
    "            s.run(init_op)\n",
    "        \n",
    "        \n",
    "        for __ in range(0,iters):\n",
    "            #Read and transform to a numpy array images from disk by block\n",
    "            for _ in range(0,limit,batch_size):\n",
    "                x,y = df_x_y (df,'file_full','target',batch_size=batch_size,offset=_)\n",
    "                fd={xi:x,y_:y,learning_rate:lr,train_bool:True}\n",
    "                _t,l = s.run([train_step,loss],feed_dict=fd)\n",
    "                if v==True:\n",
    "                    print(\"Batch\",_,\"Iter:\",__,\"Loss:\",l)\n",
    "            \n",
    "        if save_model==True:\n",
    "            if save_name==None:\n",
    "                print(\"No model specified, model not being saved\")\n",
    "                return\n",
    "            else:\n",
    "                save_path = saver.save(s, save_name)\n",
    "                print(\"Model saved in file: %s\" % save_name)\n"
   ]
  },
  {
   "cell_type": "markdown",
   "metadata": {},
   "source": [
    "Start the training process"
   ]
  },
  {
   "cell_type": "code",
   "execution_count": 10,
   "metadata": {
    "collapsed": false
   },
   "outputs": [
    {
     "name": "stdout",
     "output_type": "stream",
     "text": [
      "Batch 0 Iter: 0 Loss: 0.422241\n",
      "Batch 5 Iter: 0 Loss: 0.986407\n",
      "Batch 10 Iter: 0 Loss: 2.02306\n",
      "Batch 15 Iter: 0 Loss: 1.489\n",
      "Batch 0 Iter: 1 Loss: 0.301701\n",
      "Batch 5 Iter: 1 Loss: 0.503432\n",
      "Batch 10 Iter: 1 Loss: 0.65972\n",
      "Batch 15 Iter: 1 Loss: 0.628321\n",
      "Batch 0 Iter: 2 Loss: 0.639722\n",
      "Batch 5 Iter: 2 Loss: 0.500898\n",
      "Batch 10 Iter: 2 Loss: 0.409604\n",
      "Batch 15 Iter: 2 Loss: 0.466021\n",
      "Batch 0 Iter: 3 Loss: 0.367195\n",
      "Batch 5 Iter: 3 Loss: 0.201632\n",
      "Batch 10 Iter: 3 Loss: 0.197201\n",
      "Batch 15 Iter: 3 Loss: 0.558277\n",
      "Batch 0 Iter: 4 Loss: 0.154518\n",
      "Batch 5 Iter: 4 Loss: 0.13012\n",
      "Batch 10 Iter: 4 Loss: 0.132147\n",
      "Batch 15 Iter: 4 Loss: 0.518349\n",
      "Batch 0 Iter: 5 Loss: 0.113399\n",
      "Batch 5 Iter: 5 Loss: 0.10281\n",
      "Batch 10 Iter: 5 Loss: 0.0989146\n",
      "Batch 15 Iter: 5 Loss: 0.287876\n",
      "Batch 0 Iter: 6 Loss: 0.10605\n",
      "Batch 5 Iter: 6 Loss: 0.0756181\n",
      "Batch 10 Iter: 6 Loss: 0.0848531\n",
      "Batch 15 Iter: 6 Loss: 0.136071\n",
      "Batch 0 Iter: 7 Loss: 0.112834\n",
      "Batch 5 Iter: 7 Loss: 0.0641526\n",
      "Batch 10 Iter: 7 Loss: 0.0733536\n",
      "Batch 15 Iter: 7 Loss: 0.0871756\n",
      "Batch 0 Iter: 8 Loss: 0.108459\n",
      "Batch 5 Iter: 8 Loss: 0.0523542\n",
      "Batch 10 Iter: 8 Loss: 0.0535746\n",
      "Batch 15 Iter: 8 Loss: 0.0677359\n",
      "Batch 0 Iter: 9 Loss: 0.0893725\n",
      "Batch 5 Iter: 9 Loss: 0.0378148\n",
      "Batch 10 Iter: 9 Loss: 0.0372809\n",
      "Batch 15 Iter: 9 Loss: 0.0589032\n"
     ]
    }
   ],
   "source": [
    "xs = [None,32,32,1]\n",
    "ys = [None,2]\n",
    "train(image_df,'file_image','target',xs,ys,iters=10,lr=0.001,save_model=False,save_name=None,restore_model=False,restore_name=None,v=True)"
   ]
  },
  {
   "cell_type": "code",
   "execution_count": null,
   "metadata": {
    "collapsed": true
   },
   "outputs": [],
   "source": []
  }
 ],
 "metadata": {
  "kernelspec": {
   "display_name": "Python [conda env:py35]",
   "language": "python",
   "name": "conda-env-py35-py"
  },
  "language_info": {
   "codemirror_mode": {
    "name": "ipython",
    "version": 3
   },
   "file_extension": ".py",
   "mimetype": "text/x-python",
   "name": "python",
   "nbconvert_exporter": "python",
   "pygments_lexer": "ipython3",
   "version": "3.5.2"
  }
 },
 "nbformat": 4,
 "nbformat_minor": 1
}
